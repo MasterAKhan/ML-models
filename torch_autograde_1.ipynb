{
  "nbformat": 4,
  "nbformat_minor": 0,
  "metadata": {
    "colab": {
      "provenance": [],
      "authorship_tag": "ABX9TyPUuX9iAqfy8Fat7HRGuBxt",
      "include_colab_link": true
    },
    "kernelspec": {
      "name": "python3",
      "display_name": "Python 3"
    },
    "language_info": {
      "name": "python"
    }
  },
  "cells": [
    {
      "cell_type": "markdown",
      "metadata": {
        "id": "view-in-github",
        "colab_type": "text"
      },
      "source": [
        "<a href=\"https://colab.research.google.com/github/MasterAKhan/ML-models/blob/main/torch_autograde_1.ipynb\" target=\"_parent\"><img src=\"https://colab.research.google.com/assets/colab-badge.svg\" alt=\"Open In Colab\"/></a>"
      ]
    },
    {
      "cell_type": "code",
      "execution_count": 1,
      "metadata": {
        "id": "5J_IpuDPxC43"
      },
      "outputs": [],
      "source": [
        "import torch"
      ]
    },
    {
      "cell_type": "markdown",
      "source": [
        "Trying Autograde"
      ],
      "metadata": {
        "id": "bhP7TJ0SypTC"
      }
    },
    {
      "cell_type": "code",
      "source": [
        "x=torch.tensor(3.0,requires_grad=True)"
      ],
      "metadata": {
        "id": "oL3vHX5-xoeG"
      },
      "execution_count": 4,
      "outputs": []
    },
    {
      "cell_type": "code",
      "source": [
        "y=x**2"
      ],
      "metadata": {
        "id": "CKjXC7rhyKu2"
      },
      "execution_count": 5,
      "outputs": []
    },
    {
      "cell_type": "code",
      "source": [
        "x"
      ],
      "metadata": {
        "colab": {
          "base_uri": "https://localhost:8080/"
        },
        "id": "DwG8x7zwyTD7",
        "outputId": "f256a386-d9fd-4ac4-b9c2-bbbc3f7fc31b"
      },
      "execution_count": 7,
      "outputs": [
        {
          "output_type": "execute_result",
          "data": {
            "text/plain": [
              "tensor(3., requires_grad=True)"
            ]
          },
          "metadata": {},
          "execution_count": 7
        }
      ]
    },
    {
      "cell_type": "code",
      "source": [
        "y"
      ],
      "metadata": {
        "colab": {
          "base_uri": "https://localhost:8080/"
        },
        "id": "iqqdb7JAyUnI",
        "outputId": "1aa97bfa-15cc-4c51-ef9c-8e29e4505c47"
      },
      "execution_count": 8,
      "outputs": [
        {
          "output_type": "execute_result",
          "data": {
            "text/plain": [
              "tensor(9., grad_fn=<PowBackward0>)"
            ]
          },
          "metadata": {},
          "execution_count": 8
        }
      ]
    },
    {
      "cell_type": "code",
      "source": [
        "y.backward()"
      ],
      "metadata": {
        "id": "6LJPmIMYyWkp"
      },
      "execution_count": 9,
      "outputs": []
    },
    {
      "cell_type": "code",
      "source": [
        "x.grad"
      ],
      "metadata": {
        "colab": {
          "base_uri": "https://localhost:8080/"
        },
        "id": "c-9qjQgoyZIl",
        "outputId": "1131feb8-a9f6-428e-a6e3-38cef0cb8c4a"
      },
      "execution_count": 11,
      "outputs": [
        {
          "output_type": "execute_result",
          "data": {
            "text/plain": [
              "tensor(6.)"
            ]
          },
          "metadata": {},
          "execution_count": 11
        }
      ]
    },
    {
      "cell_type": "markdown",
      "source": [
        "Another example"
      ],
      "metadata": {
        "id": "noErmzWjyvcd"
      }
    },
    {
      "cell_type": "code",
      "source": [
        "x=torch.tensor(2.0,requires_grad=True)"
      ],
      "metadata": {
        "id": "bpBovej7yb-8"
      },
      "execution_count": 28,
      "outputs": []
    },
    {
      "cell_type": "code",
      "source": [
        "y=torch.sin(x**3)"
      ],
      "metadata": {
        "id": "J4DcFz55y5yJ"
      },
      "execution_count": 29,
      "outputs": []
    },
    {
      "cell_type": "code",
      "source": [
        "x"
      ],
      "metadata": {
        "colab": {
          "base_uri": "https://localhost:8080/"
        },
        "id": "yqvu0lauzAIN",
        "outputId": "689b9a37-a291-4e26-9ea4-099687dad761"
      },
      "execution_count": 30,
      "outputs": [
        {
          "output_type": "execute_result",
          "data": {
            "text/plain": [
              "tensor(2., requires_grad=True)"
            ]
          },
          "metadata": {},
          "execution_count": 30
        }
      ]
    },
    {
      "cell_type": "code",
      "source": [
        "y"
      ],
      "metadata": {
        "colab": {
          "base_uri": "https://localhost:8080/"
        },
        "id": "fbLRYhVKzBDw",
        "outputId": "bc9265ff-8795-4f96-8a69-2a5da25448a1"
      },
      "execution_count": 31,
      "outputs": [
        {
          "output_type": "execute_result",
          "data": {
            "text/plain": [
              "tensor(0.9894, grad_fn=<SinBackward0>)"
            ]
          },
          "metadata": {},
          "execution_count": 31
        }
      ]
    },
    {
      "cell_type": "code",
      "source": [
        "y.backward()"
      ],
      "metadata": {
        "id": "RY8uDM5RzBm_"
      },
      "execution_count": 32,
      "outputs": []
    },
    {
      "cell_type": "code",
      "source": [
        "x.grad"
      ],
      "metadata": {
        "colab": {
          "base_uri": "https://localhost:8080/"
        },
        "id": "ESS8D4U5zEVj",
        "outputId": "34daa092-f0e4-40d4-91c3-8f35752949c2"
      },
      "execution_count": 33,
      "outputs": [
        {
          "output_type": "execute_result",
          "data": {
            "text/plain": [
              "tensor(-1.7460)"
            ]
          },
          "metadata": {},
          "execution_count": 33
        }
      ]
    },
    {
      "cell_type": "code",
      "source": [
        "print(3*(x**2)*(torch.cos(x**3)))"
      ],
      "metadata": {
        "colab": {
          "base_uri": "https://localhost:8080/"
        },
        "id": "sBQTxfZwzFw3",
        "outputId": "19496b72-ea38-4c7a-b10e-9eb25051ed6d"
      },
      "execution_count": 34,
      "outputs": [
        {
          "output_type": "stream",
          "name": "stdout",
          "text": [
            "tensor(-1.7460, grad_fn=<MulBackward0>)\n"
          ]
        }
      ]
    },
    {
      "cell_type": "markdown",
      "source": [
        "so we can add nersted function and still find their auto grade"
      ],
      "metadata": {
        "id": "KWAiScvx0J1b"
      }
    },
    {
      "cell_type": "markdown",
      "source": [
        "Now, try to find double diffirinatation"
      ],
      "metadata": {
        "id": "qCYi6iOt3mxs"
      }
    },
    {
      "cell_type": "code",
      "source": [
        "x=torch.tensor(2.0,requires_grad=True)"
      ],
      "metadata": {
        "id": "j9Z4tNCz263h"
      },
      "execution_count": 48,
      "outputs": []
    },
    {
      "cell_type": "code",
      "source": [
        "y=x**4"
      ],
      "metadata": {
        "id": "u7cSxsIa3s8z"
      },
      "execution_count": 49,
      "outputs": []
    },
    {
      "cell_type": "code",
      "source": [
        "x"
      ],
      "metadata": {
        "colab": {
          "base_uri": "https://localhost:8080/"
        },
        "id": "os2KDFy-3xVN",
        "outputId": "298e6259-e3f2-460c-e52b-8ce5259ce1fc"
      },
      "execution_count": 50,
      "outputs": [
        {
          "output_type": "execute_result",
          "data": {
            "text/plain": [
              "tensor(2., requires_grad=True)"
            ]
          },
          "metadata": {},
          "execution_count": 50
        }
      ]
    },
    {
      "cell_type": "code",
      "source": [
        "y"
      ],
      "metadata": {
        "colab": {
          "base_uri": "https://localhost:8080/"
        },
        "id": "cYdVkuon3yYg",
        "outputId": "bf0522a1-5da7-4631-f2ca-c8fbf7dc54b4"
      },
      "execution_count": 51,
      "outputs": [
        {
          "output_type": "execute_result",
          "data": {
            "text/plain": [
              "tensor(16., grad_fn=<PowBackward0>)"
            ]
          },
          "metadata": {},
          "execution_count": 51
        }
      ]
    },
    {
      "cell_type": "code",
      "source": [
        "ydash=torch.autograd.grad(y,x, create_graph=True)[0]"
      ],
      "metadata": {
        "id": "_irAUMEM3ytR"
      },
      "execution_count": 52,
      "outputs": []
    },
    {
      "cell_type": "code",
      "source": [
        "print(ydash)"
      ],
      "metadata": {
        "colab": {
          "base_uri": "https://localhost:8080/"
        },
        "id": "zRndIP6135WF",
        "outputId": "86811528-a868-40b5-abe1-e91a3bd43b27"
      },
      "execution_count": 53,
      "outputs": [
        {
          "output_type": "stream",
          "name": "stdout",
          "text": [
            "tensor(32., grad_fn=<MulBackward0>)\n"
          ]
        }
      ]
    },
    {
      "cell_type": "code",
      "source": [
        "ydashdash=torch.autograd.grad(ydash,x)[0]"
      ],
      "metadata": {
        "id": "GKhiS_GK4DSE"
      },
      "execution_count": 54,
      "outputs": []
    },
    {
      "cell_type": "code",
      "source": [
        "print(ydashdash)"
      ],
      "metadata": {
        "colab": {
          "base_uri": "https://localhost:8080/"
        },
        "id": "UNrGiU--4cX8",
        "outputId": "3d3f6262-833d-40b8-c30c-6c5bee6f2e14"
      },
      "execution_count": 55,
      "outputs": [
        {
          "output_type": "stream",
          "name": "stdout",
          "text": [
            "tensor(48.)\n"
          ]
        }
      ]
    },
    {
      "cell_type": "code",
      "source": [
        "print(4*3*2**2)"
      ],
      "metadata": {
        "colab": {
          "base_uri": "https://localhost:8080/"
        },
        "id": "8uMx5RM64evN",
        "outputId": "8e48d158-8cef-4011-938f-e355cec125d7"
      },
      "execution_count": 56,
      "outputs": [
        {
          "output_type": "stream",
          "name": "stdout",
          "text": [
            "48\n"
          ]
        }
      ]
    },
    {
      "cell_type": "markdown",
      "source": [
        "now try auto grade on matrix"
      ],
      "metadata": {
        "id": "7MIVi9-E4qIS"
      }
    },
    {
      "cell_type": "code",
      "source": [
        "x=torch.rand(3,3,requires_grad=True)"
      ],
      "metadata": {
        "id": "QCoHhee54kB0"
      },
      "execution_count": 57,
      "outputs": []
    },
    {
      "cell_type": "code",
      "source": [
        "y=torch.matmul(x,x.T)"
      ],
      "metadata": {
        "id": "PfklY6_B5Eus"
      },
      "execution_count": 58,
      "outputs": []
    },
    {
      "cell_type": "code",
      "source": [
        "x"
      ],
      "metadata": {
        "colab": {
          "base_uri": "https://localhost:8080/"
        },
        "id": "FqeTkuaM5MlC",
        "outputId": "ae44ab74-8caf-4323-9038-3ae13c689ea0"
      },
      "execution_count": 59,
      "outputs": [
        {
          "output_type": "execute_result",
          "data": {
            "text/plain": [
              "tensor([[0.3061, 0.3930, 0.5236],\n",
              "        [0.5304, 0.7959, 0.0424],\n",
              "        [0.3559, 0.0135, 0.5710]], requires_grad=True)"
            ]
          },
          "metadata": {},
          "execution_count": 59
        }
      ]
    },
    {
      "cell_type": "code",
      "source": [
        "y"
      ],
      "metadata": {
        "colab": {
          "base_uri": "https://localhost:8080/"
        },
        "id": "MD8zC4575NVW",
        "outputId": "a98b7074-ecff-4163-87fb-d96876d1e7ea"
      },
      "execution_count": 60,
      "outputs": [
        {
          "output_type": "execute_result",
          "data": {
            "text/plain": [
              "tensor([[0.5224, 0.4974, 0.4133],\n",
              "        [0.4974, 0.9165, 0.2238],\n",
              "        [0.4133, 0.2238, 0.4529]], grad_fn=<MmBackward0>)"
            ]
          },
          "metadata": {},
          "execution_count": 60
        }
      ]
    },
    {
      "cell_type": "code",
      "source": [
        "# y is a matrix, so we need a scalar loss to call backward() implicitly.\n",
        "# We can sum the elements of y to get a scalar loss.\n",
        "scalar_loss = torch.sum(y)\n",
        "\n",
        "# Now call backward() on the scalar loss\n",
        "scalar_loss.backward()\n",
        "\n",
        "# The gradients are now accumulated in x.grad\n",
        "print(x.grad)"
      ],
      "metadata": {
        "colab": {
          "base_uri": "https://localhost:8080/"
        },
        "id": "g5YoFVLi5OeW",
        "outputId": "da3447e7-b786-4a4c-b4dc-32afa5df9c96"
      },
      "execution_count": 62,
      "outputs": [
        {
          "output_type": "stream",
          "name": "stdout",
          "text": [
            "tensor([[2.3850, 2.4049, 2.2740],\n",
            "        [2.3850, 2.4049, 2.2740],\n",
            "        [2.3850, 2.4049, 2.2740]])\n"
          ]
        }
      ]
    },
    {
      "cell_type": "markdown",
      "source": [
        "Last cell i used gemini as i tried to find gradient of non scaler function thats not allowed"
      ],
      "metadata": {
        "id": "KbltNPr8579q"
      }
    },
    {
      "cell_type": "markdown",
      "source": [
        "Now try to build simple neuron and try to find derivative of loss with respect to weight and baise"
      ],
      "metadata": {
        "id": "aMjvZpND6b91"
      }
    },
    {
      "cell_type": "code",
      "source": [
        "x=torch.linspace(0,100,17)"
      ],
      "metadata": {
        "id": "SSVYQSTJ5T6p"
      },
      "execution_count": 80,
      "outputs": []
    },
    {
      "cell_type": "code",
      "source": [
        "x"
      ],
      "metadata": {
        "colab": {
          "base_uri": "https://localhost:8080/"
        },
        "id": "aDuYokQs7-t3",
        "outputId": "5ebcac0c-65da-4d52-eed8-fc210f79845b"
      },
      "execution_count": 81,
      "outputs": [
        {
          "output_type": "execute_result",
          "data": {
            "text/plain": [
              "tensor([  0.0000,   6.2500,  12.5000,  18.7500,  25.0000,  31.2500,  37.5000,\n",
              "         43.7500,  50.0000,  56.2500,  62.5000,  68.7500,  75.0000,  81.2500,\n",
              "         87.5000,  93.7500, 100.0000])"
            ]
          },
          "metadata": {},
          "execution_count": 81
        }
      ]
    },
    {
      "cell_type": "code",
      "source": [
        "w=torch.linspace(0,10,17,requires_grad=True)"
      ],
      "metadata": {
        "id": "CuYnRPmy8Ltc"
      },
      "execution_count": 82,
      "outputs": []
    },
    {
      "cell_type": "code",
      "source": [
        "b=torch.tensor(3.1, requires_grad=True)"
      ],
      "metadata": {
        "id": "hhJzyj8n8cEQ"
      },
      "execution_count": 83,
      "outputs": []
    },
    {
      "cell_type": "code",
      "source": [
        "w"
      ],
      "metadata": {
        "colab": {
          "base_uri": "https://localhost:8080/"
        },
        "id": "8vI_ZzUT8oWB",
        "outputId": "ef332451-8801-43a7-ad52-c3aaf02e5af8"
      },
      "execution_count": 84,
      "outputs": [
        {
          "output_type": "execute_result",
          "data": {
            "text/plain": [
              "tensor([ 0.0000,  0.6250,  1.2500,  1.8750,  2.5000,  3.1250,  3.7500,  4.3750,\n",
              "         5.0000,  5.6250,  6.2500,  6.8750,  7.5000,  8.1250,  8.7500,  9.3750,\n",
              "        10.0000], requires_grad=True)"
            ]
          },
          "metadata": {},
          "execution_count": 84
        }
      ]
    },
    {
      "cell_type": "code",
      "source": [
        "b"
      ],
      "metadata": {
        "colab": {
          "base_uri": "https://localhost:8080/"
        },
        "id": "aZR1bWr88pXX",
        "outputId": "f259cccb-14cc-49e5-8018-c56a9d81080e"
      },
      "execution_count": 85,
      "outputs": [
        {
          "output_type": "execute_result",
          "data": {
            "text/plain": [
              "tensor(3.1000, requires_grad=True)"
            ]
          },
          "metadata": {},
          "execution_count": 85
        }
      ]
    },
    {
      "cell_type": "code",
      "source": [
        "y=torch.dot(w,x)+b"
      ],
      "metadata": {
        "id": "2Xyck24l8pwm"
      },
      "execution_count": 86,
      "outputs": []
    },
    {
      "cell_type": "code",
      "source": [
        "y"
      ],
      "metadata": {
        "colab": {
          "base_uri": "https://localhost:8080/"
        },
        "id": "mc4Wjqug8zXP",
        "outputId": "d0c82679-e9aa-41d7-d330-8bcc1d9f8a1f"
      },
      "execution_count": 87,
      "outputs": [
        {
          "output_type": "execute_result",
          "data": {
            "text/plain": [
              "tensor(5846.8501, grad_fn=<AddBackward0>)"
            ]
          },
          "metadata": {},
          "execution_count": 87
        }
      ]
    },
    {
      "cell_type": "code",
      "source": [
        "y.backward()"
      ],
      "metadata": {
        "id": "YJgqbj1S8z2j"
      },
      "execution_count": 88,
      "outputs": []
    },
    {
      "cell_type": "code",
      "source": [
        "w.grad"
      ],
      "metadata": {
        "colab": {
          "base_uri": "https://localhost:8080/"
        },
        "id": "OVjc-bKY815a",
        "outputId": "4b714f9e-74a6-49b7-a054-e205afcc5ea0"
      },
      "execution_count": 89,
      "outputs": [
        {
          "output_type": "execute_result",
          "data": {
            "text/plain": [
              "tensor([  0.0000,   6.2500,  12.5000,  18.7500,  25.0000,  31.2500,  37.5000,\n",
              "         43.7500,  50.0000,  56.2500,  62.5000,  68.7500,  75.0000,  81.2500,\n",
              "         87.5000,  93.7500, 100.0000])"
            ]
          },
          "metadata": {},
          "execution_count": 89
        }
      ]
    },
    {
      "cell_type": "code",
      "source": [
        "b.grad"
      ],
      "metadata": {
        "colab": {
          "base_uri": "https://localhost:8080/"
        },
        "id": "dSXe7YVa83b1",
        "outputId": "653fa51d-1fa6-4612-e173-adfc67293571"
      },
      "execution_count": 90,
      "outputs": [
        {
          "output_type": "execute_result",
          "data": {
            "text/plain": [
              "tensor(1.)"
            ]
          },
          "metadata": {},
          "execution_count": 90
        }
      ]
    },
    {
      "cell_type": "code",
      "source": [],
      "metadata": {
        "id": "ElSdjXt2844Z"
      },
      "execution_count": null,
      "outputs": []
    }
  ]
}